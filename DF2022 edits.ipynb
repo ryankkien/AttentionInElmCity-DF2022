{
 "cells": [
  {
   "cell_type": "code",
   "execution_count": 12,
   "id": "d46122ee-035f-4867-acf8-75eaf56546c9",
   "metadata": {},
   "outputs": [],
   "source": [
    "import pandas as pd\n",
    "import numpy as np\n",
    "import math\n",
    "import matplotlib.pyplot as plt\n",
    "from scipy import stats\n",
    "from scipy.optimize import curve_fit\n",
    "import seaborn as sns"
   ]
  },
  {
   "cell_type": "code",
   "execution_count": 4,
   "id": "14ce3659-8dee-45ae-9032-2e3f152c1d5a",
   "metadata": {},
   "outputs": [
    {
     "name": "stderr",
     "output_type": "stream",
     "text": [
      "C:\\Users\\rswil\\anaconda3\\lib\\site-packages\\IPython\\core\\interactiveshell.py:3444: DtypeWarning: Columns (34,38,39,40,47,50,53,54,57,58,59,60,62,68,70,72,73,74,76,77,78,81,85,88,89,90,91,92,96,97,98,99,100,101,102,103,104,105,106,107,108,109,110,111,112,113,114,115,116,118,120,121,122,123,129,131) have mixed types.Specify dtype option on import or set low_memory=False.\n",
      "  exec(code_obj, self.user_global_ns, self.user_ns)\n"
     ]
    }
   ],
   "source": [
    "# load the data\n",
    "logs = pd.read_csv(\"C:/Users/rswil/Downloads/DF2022/Data For Students-Updated2022-03-28/data files/logs.csv\")"
   ]
  },
  {
   "cell_type": "code",
   "execution_count": 85,
   "id": "d3e2af8f",
   "metadata": {},
   "outputs": [
    {
     "name": "stdout",
     "output_type": "stream",
     "text": [
      "[6427002, 6427007, 6427010, 6427015, 6427021, 6427024, 6430003, 6430004, 6430006, 6430008, 6486001, 6486003, 6486009, 6486011, 6486013, 6486015, 6486017, 6486021, 6486022, 6486025, 6486026, 6486027, 6486028, 6486029, 6486036, 6486038, 6506007, 6506008, 6506009, 6546003, 6546004, 6546013, 6566006, 6567004, 6606001, 6606002, 6606006, 6606008, 6607003, 6608001, 6626001, 6626002, 6626006, 7540835, 65670031]\n",
      "0.2710843373493976\n"
     ]
    }
   ],
   "source": [
    "labels = pd.DataFrame({'player_id':logs['player_id'], 'labels':logs['old_label']})\n",
    "labels = labels.dropna()\n",
    "c = [i for i in logs['player_id'].unique() if i not in labels['player_id'].unique()]\n",
    "print(c)\n",
    "print(len(c) / len(logs['player_id'].unique()))"
   ]
  },
  {
   "cell_type": "code",
   "execution_count": 88,
   "id": "e586c368",
   "metadata": {},
   "outputs": [
    {
     "ename": "TypeError",
     "evalue": "list indices must be integers or slices, not list",
     "output_type": "error",
     "traceback": [
      "\u001b[1;31m---------------------------------------------------------------------------\u001b[0m",
      "\u001b[1;31mTypeError\u001b[0m                                 Traceback (most recent call last)",
      "\u001b[1;32m~\\AppData\\Local\\Temp/ipykernel_20496/2136064366.py\u001b[0m in \u001b[0;36m<module>\u001b[1;34m\u001b[0m\n\u001b[1;32m----> 1\u001b[1;33m \u001b[0mc\u001b[0m\u001b[1;33m[\u001b[0m\u001b[1;33m[\u001b[0m\u001b[1;36m16\u001b[0m\u001b[1;33m,\u001b[0m \u001b[1;36m29\u001b[0m\u001b[1;33m,\u001b[0m \u001b[1;36m33\u001b[0m\u001b[1;33m,\u001b[0m \u001b[1;36m42\u001b[0m\u001b[1;33m,\u001b[0m \u001b[1;36m98\u001b[0m\u001b[1;33m,\u001b[0m \u001b[1;36m100\u001b[0m\u001b[1;33m]\u001b[0m\u001b[1;33m]\u001b[0m\u001b[1;33m\u001b[0m\u001b[1;33m\u001b[0m\u001b[0m\n\u001b[0m",
      "\u001b[1;31mTypeError\u001b[0m: list indices must be integers or slices, not list"
     ]
    }
   ],
   "source": [
    "c[16, 29, 33, 42, 98, 100]"
   ]
  },
  {
   "cell_type": "code",
   "execution_count": 6,
   "id": "c51b75b0-b549-434e-84f9-73f536bd1736",
   "metadata": {},
   "outputs": [
    {
     "ename": "NameError",
     "evalue": "name 'w' is not defined",
     "output_type": "error",
     "traceback": [
      "\u001b[1;31m---------------------------------------------------------------------------\u001b[0m",
      "\u001b[1;31mNameError\u001b[0m                                 Traceback (most recent call last)",
      "\u001b[1;32m~\\AppData\\Local\\Temp/ipykernel_20496/4198338672.py\u001b[0m in \u001b[0;36m<module>\u001b[1;34m\u001b[0m\n\u001b[0;32m      1\u001b[0m \u001b[0mmask\u001b[0m \u001b[1;33m=\u001b[0m \u001b[1;33m[\u001b[0m\u001b[1;33m]\u001b[0m\u001b[1;33m\u001b[0m\u001b[1;33m\u001b[0m\u001b[0m\n\u001b[1;32m----> 2\u001b[1;33m \u001b[1;32mfor\u001b[0m \u001b[0mi\u001b[0m \u001b[1;32min\u001b[0m \u001b[0mw\u001b[0m\u001b[1;33m:\u001b[0m\u001b[1;33m\u001b[0m\u001b[1;33m\u001b[0m\u001b[0m\n\u001b[0m\u001b[0;32m      3\u001b[0m     \u001b[1;32mif\u001b[0m \u001b[0mlen\u001b[0m\u001b[1;33m(\u001b[0m\u001b[0mi\u001b[0m\u001b[1;33m)\u001b[0m \u001b[1;33m==\u001b[0m \u001b[1;36m0\u001b[0m\u001b[1;33m:\u001b[0m\u001b[1;33m\u001b[0m\u001b[1;33m\u001b[0m\u001b[0m\n\u001b[0;32m      4\u001b[0m         \u001b[0mmask\u001b[0m\u001b[1;33m.\u001b[0m\u001b[0mappend\u001b[0m\u001b[1;33m(\u001b[0m\u001b[1;32mFalse\u001b[0m\u001b[1;33m)\u001b[0m\u001b[1;33m\u001b[0m\u001b[1;33m\u001b[0m\u001b[0m\n\u001b[0;32m      5\u001b[0m     \u001b[1;32melse\u001b[0m\u001b[1;33m:\u001b[0m\u001b[1;33m\u001b[0m\u001b[1;33m\u001b[0m\u001b[0m\n",
      "\u001b[1;31mNameError\u001b[0m: name 'w' is not defined"
     ]
    }
   ],
   "source": [
    "mask = []\n",
    "for i in w:\n",
    "    if len(i) == 0:\n",
    "        mask.append(False)\n",
    "    else:\n",
    "        mask.append(True)\n",
    "trueIndices = []\n",
    "for i in range(len(mask)):\n",
    "    if mask[i]:\n",
    "        trueIndices.append(i)\n",
    "\n",
    "trueIndicesNonValid = [16, 29, 33, 42, 98, 100]\n",
    "nonValid = []\n",
    "for i in trueIndicesNonValid:\n",
    "    nonValid.append(trueIndices[i])\n",
    "\n",
    "# nonValid\n",
    "for i in nonValid:\n",
    "    mask[i] = not mask[i]"
   ]
  },
  {
   "cell_type": "code",
   "execution_count": null,
   "id": "df1fee92-cdeb-40d2-b56c-e4976e83a2f6",
   "metadata": {},
   "outputs": [],
   "source": [
    "caregroup = []\n",
    "notcaregroup = []\n",
    "for i in range(len(mask)):\n",
    "    if mask[i]:\n",
    "        caregroup.append(df_players[i])\n",
    "    else:\n",
    "        notcaregroup.append(df_players[i])"
   ]
  },
  {
   "cell_type": "code",
   "execution_count": null,
   "id": "22ec5cdc-ef51-4337-b130-ef5faba7e655",
   "metadata": {},
   "outputs": [],
   "source": [
    "caregroup_u16 = []\n",
    "for i in range(len(caregroup)):\n",
    "    if caregroup[i]['event_time_dbl'].max() <= 57600:\n",
    "        caregroup_u16.append(caregroup[i])\n",
    "\n",
    "notcaregroup_u16 = []\n",
    "for i in range(len(notcaregroup)):\n",
    "    if notcaregroup[i]['event_time_dbl'].max() <= 57600:\n",
    "        notcaregroup_u16.append(notcaregroup[i])"
   ]
  },
  {
   "cell_type": "code",
   "execution_count": null,
   "id": "eb436c4c-f443-4fb1-a21f-46a76beebd7f",
   "metadata": {},
   "outputs": [],
   "source": [
    "def hours(care_group): \n",
    "    total_hours = []\n",
    "    for i in care_group:\n",
    "        total_hours.append(i['event_time_dbl'].max()/3600)\n",
    "    return total_hours\n",
    "caregroup_hours_spent = hours(caregroup_u16)\n",
    "notcaregroup_hours_spent = hours(notcaregroup_u16)"
   ]
  },
  {
   "cell_type": "code",
   "execution_count": null,
   "id": "68624fd5-e6f7-48d1-83cc-a8a6ff0911e2",
   "metadata": {},
   "outputs": [],
   "source": [
    "def prop(care_group): \n",
    "    prop = []\n",
    "    for i in care_group:\n",
    "        prop.append(i['proportion_complete'].max())\n",
    "    return prop\n",
    "caregroup_prop = prop(caregroup_u16)\n",
    "notcaregroup_prop = prop(notcaregroup_u16)"
   ]
  },
  {
   "cell_type": "code",
   "execution_count": null,
   "id": "c4526c1d-f09d-49db-b070-8a9a313ed4d8",
   "metadata": {},
   "outputs": [],
   "source": [
    "still_care = {0:0, 0.05:0, 0.1:0, 0.15:0, 0.2:0, 0.25:0, 0.3:0, 0.35:0, 0.4:0, 0.45:0, 0.5:0,\n",
    "              0.55:0, 0.6:0, 0.65:0, 0.70:0, 0.75:0, 0.80:0, 0.85:0, 0.90:0, 0.95:0, 1:0}\n",
    "for status in caregroup_prop:\n",
    "    for value in still_care:\n",
    "        if status >= value: \n",
    "            still_care[value] += 1\n",
    "\n",
    "still_notcare = {0:0, 0.05:0, 0.1:0, 0.15:0, 0.2:0, 0.25:0, 0.3:0, 0.35:0, 0.4:0, 0.45:0, 0.5:0,\n",
    "              0.55:0, 0.6:0, 0.65:0, 0.70:0, 0.75:0, 0.80:0, 0.85:0, 0.90:0, 0.95:0, 1:0}\n",
    "for status in notcaregroup_prop:\n",
    "    for value in still_notcare:\n",
    "        if status >= value: \n",
    "            still_notcare[value] += 1\n",
    "            "
   ]
  },
  {
   "cell_type": "code",
   "execution_count": null,
   "id": "9008904e-912b-4986-86ba-08773638f034",
   "metadata": {},
   "outputs": [],
   "source": [
    "caregroup_stack_id = []\n",
    "for i in caregroup_u16:\n",
    "    try:\n",
    "        caregroup_stack_id.append(i['stack_id'][i['stack_id'].last_valid_index()])\n",
    "    except KeyError:\n",
    "        print('NA')\n",
    "\n",
    "notcaregroup_stack_id = []\n",
    "for i in notcaregroup_u16:\n",
    "    try:\n",
    "        notcaregroup_stack_id.append(i['stack_id'][i['stack_id'].last_valid_index()])\n",
    "    except KeyError:\n",
    "        print('NA')"
   ]
  },
  {
   "cell_type": "code",
   "execution_count": null,
   "id": "c6f625e4-a2fa-45c5-9e4e-d2c659294fd9",
   "metadata": {},
   "outputs": [],
   "source": [
    "plt.hist(caregroup_hours_spent, density = True, bins = 14, alpha = 0.7)\n",
    "plt.hist(notcaregroup_hours_spent, density = True, bins = 14, alpha = 0.7)\n",
    "plt.legend(['interested', 'not interested'])\n",
    "plt.xlabel('hours')\n",
    "plt.ylabel('frequency')\n",
    "plt.title('total time spent playing by interest level group')\n",
    "plt.show()"
   ]
  },
  {
   "cell_type": "code",
   "execution_count": null,
   "id": "9e1ec4c7-3ef0-48a4-a34e-af4c3ec00bc7",
   "metadata": {},
   "outputs": [],
   "source": [
    "plt.hist(caregroup_prop, density = True, bins = 10, alpha = 0.7)\n",
    "plt.hist(notcaregroup_prop, density = True, bins = 10, alpha = 0.7)\n",
    "plt.legend(['interested', 'not interested'])\n",
    "plt.xlabel('percent completed')\n",
    "plt.ylabel('frequency')\n",
    "plt.title('total percent completed by interest level group')\n",
    "plt.show()"
   ]
  },
  {
   "cell_type": "code",
   "execution_count": null,
   "id": "a974ebd1-d1db-481f-a1ad-0b84addf08f2",
   "metadata": {},
   "outputs": [],
   "source": [
    "stats.ttest_ind(caregroup_hours_spent, notcaregroup_hours_spent, equal_var = False)"
   ]
  },
  {
   "cell_type": "code",
   "execution_count": null,
   "id": "b01c8f4f-0b5f-4561-84c7-3b6c3c1de585",
   "metadata": {},
   "outputs": [],
   "source": [
    "stats.ttest_ind(caregroup_prop, notcaregroup_prop, equal_var = False)"
   ]
  },
  {
   "cell_type": "code",
   "execution_count": null,
   "id": "497f9547-8749-4003-a6c6-624b9634c034",
   "metadata": {},
   "outputs": [],
   "source": [
    "print(type(np.array(caregroup_hours_spent)))"
   ]
  },
  {
   "cell_type": "code",
   "execution_count": null,
   "id": "99b00902-d804-48ef-9fbe-6163232e8de8",
   "metadata": {},
   "outputs": [],
   "source": [
    "from scipy.interpolate import make_interp_spline\n",
    "\n",
    "X_Y_Spline_c = make_interp_spline(np.sort(caregroup_hours_spent), np.sort(caregroup_prop))\n",
    "\n",
    "X_c = np.linspace(min(caregroup_hours_spent), max(caregroup_hours_spent), 10)\n",
    "Y_c = X_Y_Spline_c(X_c)\n",
    "\n",
    "X_Y_Spline_n = make_interp_spline(np.sort(notcaregroup_hours_spent), np.sort(notcaregroup_prop))\n",
    "\n",
    "X_n = np.linspace(min(notcaregroup_hours_spent), max(notcaregroup_hours_spent), 10)\n",
    "Y_n = X_Y_Spline_n(X_n)\n",
    "\n",
    "fig, ax = plt.subplots()\n",
    "ax.set_title(\"Total time spent playing by group\", fontsize = 20)\n",
    "ax.grid = False\n",
    "plt.plot(X_c, Y_c, linewidth = 2)\n",
    "plt.plot(X_n, Y_n, linewidth = 2)\n",
    "plt.scatter(caregroup_hours_spent, caregroup_prop,)\n",
    "plt.scatter(notcaregroup_hours_spent, notcaregroup_prop)\n",
    "plt.legend(['interested', 'not interested'], loc = \"upper left\")\n",
    "plt.xlabel('Hours', fontsize = 20)\n",
    "plt.ylabel('Percent Completed', fontsize = 20)\n",
    "plt.title('Elapsed Time vs. End Completion by Group', fontsize = 20)\n",
    "plt.rcParams['figure.dpi'] = 300\n",
    "plt.rcParams['savefig.dpi'] = 300\n",
    "sns.set(rc={'axes.facecolor':'#ffefe1', 'figure.facecolor':'#ffefe1', 'figure.figsize':(11.7,8.27)})\n",
    "plt.show()"
   ]
  },
  {
   "cell_type": "code",
   "execution_count": null,
   "id": "20371c93-4892-4092-8069-10978bb52868",
   "metadata": {},
   "outputs": [],
   "source": [
    "plt.bar(still_care.keys(),  still_care.values())\n",
    "plt.bar(still_notcare.keys(), still_notcare.values())\n",
    "plt.legend(['interested', 'not interested'], loc = \"upper right\")\n",
    "plt.xlabel('percent completed')\n",
    "plt.ylabel('count')\n",
    "plt.xlim(0, 1)\n",
    "plt.title('remaining players by interest level group')\n",
    "plt.show()\n",
    "\n",
    "print(still_care)\n",
    "print(still_notcare)"
   ]
  },
  {
   "cell_type": "code",
   "execution_count": null,
   "id": "237fccf1",
   "metadata": {},
   "outputs": [],
   "source": []
  }
 ],
 "metadata": {
  "kernelspec": {
   "display_name": "Python 3 (ipykernel)",
   "language": "python",
   "name": "python3"
  },
  "language_info": {
   "codemirror_mode": {
    "name": "ipython",
    "version": 3
   },
   "file_extension": ".py",
   "mimetype": "text/x-python",
   "name": "python",
   "nbconvert_exporter": "python",
   "pygments_lexer": "ipython3",
   "version": "3.9.7"
  }
 },
 "nbformat": 4,
 "nbformat_minor": 5
}
