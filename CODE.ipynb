{
 "cells": [
  {
   "cell_type": "code",
   "execution_count": 142,
   "metadata": {},
   "outputs": [],
   "source": [
    "import math\n",
    "import pandas as pd\n",
    "import matplotlib.pyplot as plt\n",
    "import numpy as np\n",
    "import seaborn as sns"
   ]
  },
  {
   "cell_type": "code",
   "execution_count": 4,
   "metadata": {},
   "outputs": [
    {
     "name": "stderr",
     "output_type": "stream",
     "text": [
      "/Users/wiggles/opt/anaconda3/lib/python3.9/site-packages/IPython/core/interactiveshell.py:3444: DtypeWarning: Columns (34,38,39,40,47,50,53,54,57,58,59,60,62,68,70,72,73,74,76,77,78,81,85,88,89,90,91,92,96,97,98,99,100,101,102,103,104,105,106,107,108,109,110,111,112,113,114,115,116,118,120,121,122,123,129,131) have mixed types.Specify dtype option on import or set low_memory=False.\n",
      "  exec(code_obj, self.user_global_ns, self.user_ns)\n"
     ]
    }
   ],
   "source": [
    "# df = pandas.read_csv('/Users/wiggles/Desktop/DATAFEST2022/DA DRIVE/data files/player-6427031 .csv')\n",
    "# df = pandas.read_csv('/Users/wiggles/Desktop/DATAFEST2022/DA DRIVE/data files/player-6486029.csv')\n",
    "# df = pandas.read_csv('/Users/wiggles/Desktop/DATAFEST2022/DA DRIVE/data files/player-6607011.csv')\n",
    "df = pd.read_csv('/Users/wiggles/Desktop/DATAFEST2022/DA DRIVE/data files/logs.csv')"
   ]
  },
  {
   "cell_type": "markdown",
   "metadata": {},
   "source": [
    "Our goal is to find a weak spot in the game that would expl"
   ]
  },
  {
   "cell_type": "code",
   "execution_count": 5,
   "metadata": {},
   "outputs": [],
   "source": [
    "dfByPlayer = []\n",
    "for i in set(df['player_id']):\n",
    "    dfByPlayer.append(df[df['player_id'] == i])\n",
    "\n"
   ]
  },
  {
   "cell_type": "code",
   "execution_count": null,
   "metadata": {},
   "outputs": [],
   "source": []
  },
  {
   "cell_type": "code",
   "execution_count": 7,
   "metadata": {},
   "outputs": [],
   "source": [
    "wordchoice = []\n",
    "for i in dfByPlayer:\n",
    "    wordchoice.append(set(i['old_label']))"
   ]
  },
  {
   "cell_type": "code",
   "execution_count": 8,
   "metadata": {},
   "outputs": [],
   "source": [
    "w = []\n",
    "for i in wordchoice:\n",
    "    w.append([x for x in i if type(x) == str])"
   ]
  },
  {
   "cell_type": "code",
   "execution_count": 10,
   "metadata": {},
   "outputs": [
    {
     "name": "stdout",
     "output_type": "stream",
     "text": [
      "['my cousin', 'happy', 'driving around', 'bike riding', 'family']\n",
      "[]\n",
      "['be a polec', 'nice car', 'my dad']\n",
      "['cookie', 'math', 'engeneer', 'constru']\n",
      "['L.A', 'caring', 'florida', 'love music', 'football', 'New York', 'some where fun', 'hyper', 'gaming', 'reading', 'toyotas']\n",
      "[]\n",
      "[]\n",
      "['funny']\n",
      "['cooking']\n",
      "[]\n",
      "[]\n",
      "[]\n",
      "[]\n",
      "[]\n",
      "['weird']\n",
      "['careing person', 'nice', 'being smart', 'fun yo be arou', 'get that weigh']\n",
      "['amusement park', 'electronics', 'animals', 'games']\n",
      "['flordia', 'tired']\n",
      "['excersise', 'yorkie']\n",
      "['sad']\n",
      "[]\n",
      "['i love shoes', 'my niece', 'fruits', 'huskey', 'music', 'the ocean', 'cosmatoligest', 'arts', 'this car', 'food', 'on flat land', 'artist', 'photagraphy']\n",
      "[]\n",
      "['dog', 'happy', 'animals']\n",
      "['colors', 'cool']\n",
      "['nerologists', 'family', 'fashion', 'dua', 'amazing', 'quran']\n",
      "['js40', 'good', 'tty', 'food', 'agol', 'lol', 'jose', '12131415161718', 'fuck bitch', 'fuck', 'game', 'bitch', 'cool', 'kill', 'i', 'salsiiiiiiiiii', 'car', '21', 'bitc', 'fune', 'flrofi b mckck']\n",
      "['one kid', 'coocking']\n",
      "['familt', 'angel', 'surprising', 'singerr']\n",
      "['family', 'give in', \"don't care\", 'stupid', 'too cool', 'party', 'study', 'to nice']\n",
      "['Singing']\n",
      "['volcano', 'funny', '1 kid', 'pets', 'soccer', 'rmy', 'german shepard', 'nissan', 'chef', 'brother', 'beach', 'soccer player', 'sports']\n",
      "[]\n",
      "[]\n",
      "[]\n",
      "['dog', 'my mom', 'workim out', 'mall', 'Tampa Florida', 'car', 'my baby', 'husband + kids', 'awsome']\n",
      "[]\n",
      "['Basketball']\n",
      "['raper', 'workingout', 'musle mass', 'cute', 'nba allstar', 'funny', 'swming', 'angel', 'cranky', 'unqnie', 'natrue lover', 'father', 'studying', 'tecknolege', 'caring', 'heathy', 'raping', 'mother', 'cool guy', 'biker', 'los angles', 'parting', 'nba player', 'sports', 'confident', 'army', 'focused', 'cool', 'hardwork', 'gaming', 'marine', 'gamer', 'gym', 'nassin', 'music lover', 'reading', 'enthusasium']\n",
      "['futrue car']\n",
      "[]\n",
      "[]\n",
      "['woods', 'football', 'winner', 'cool']\n",
      "['a angel']\n",
      "['angle', 'math', 'music', 'happy', 'new york', 'cooking', 'tv', 'video games', 'army']\n",
      "['rocky', 'love movies', 'fat ass', 'for ass wipes', 'animals', 'cute chicken', 'beast', 'wave style900']\n",
      "['Books', 'Cool', 'mon']\n",
      "['cool', 'football', 'basketball', 'sports']\n",
      "['little sister', 'lovable']\n",
      "['#ballislife#', 'own twerk biz', 'nono honeyboo#']\n",
      "[]\n",
      "['eating', 'happu', 'travel', 'funny', 'excersize']\n",
      "['CSI']\n",
      "['Teacher', 'music', 'eating healthy', 'like to prefor', 'Bill Gates', 'Music']\n",
      "[]\n",
      "[]\n",
      "['intelligent', 'giving a hand', 'sincere']\n",
      "['talented', 'family', 'i like to do o', 'they arecute', 'tired', 'its quiet', 'peace', 'they save life', 'like football', 'they Re cool', 'mom', 'fun', 'ange']\n",
      "['nightmare', 'spy', 'beast at this', 'wavy at that', 'nightwhipe', 'angle']\n",
      "['love  bird', 'letstopand pos', 'my lip glose i', 'my lip glose', 'giving', 'driving', 'music', 'swimming', 'love', 'poping', 'angle']\n",
      "['food', 'shoes', 'school', 'basketball']\n",
      "[]\n",
      "['by a', 'bob', 'ass']\n",
      "['mom']\n",
      "['dog']\n",
      "[]\n",
      "['amazing places', 'awesome', 'family', 'family of four', 'good friend', 'typer', 'gym', 'games']\n",
      "['running']\n",
      "['book smart', 'cool', 'sky divs', 'cooking', 'husbanc', 'nice things']\n",
      "['a husband a bo']\n",
      "['overboard', 'I LOVE ANIMALS', 'looking tired', 'JAMAICA', 'looks so tired', 'superised.', 'I love animals', 'loves animals', 'jamaica', 'I love games', 'Ilove animals', 'I still li']\n",
      "['porche', 'shoes', 'mo', 'pueto rico']\n",
      "['caring']\n",
      "['a family', 'hanging with f']\n",
      "[]\n",
      "['reader']\n",
      "['mom']\n",
      "['loving', 'worread', 'caring', 'happy', 'study', 'helthy', 'loveble']\n",
      "['happy']\n",
      "['smart son', 'im a lover', 'I make peac', 'a scientist', 'im cool']\n",
      "['NBA']\n",
      "['baseball']\n",
      "['Dancer', 'Dancing', 'Helpful', 'Dreamer', 'Track/Running', 'Respectful', 'Reader', 'Honest', 'Country Side', 'Neonatal Nurse', 'Healthy', 'Nice']\n",
      "[]\n",
      "[]\n",
      "['two kids', 'i like partys', '<3 a nice car', 'driving', \"family's first\", 'science', 'funny', '<3', 'pretty']\n",
      "['.']\n",
      "['the mall', 'football', 'bad', 'my weight', 'florida', 'motocycle', 'crazy', 'computer', 'my dad', 'cooking', 'doing nothing']\n",
      "[]\n",
      "['cars', 'army', 'soccer always', 'cool', 'nice ass car', 'mom', 'being a dj', 'sports']\n",
      "[]\n",
      "['angel', 'family', 'happy', 'a waiter', 'basketball']\n",
      "['really mean']\n",
      "[]\n",
      "[]\n",
      "['sleepy']\n",
      "['frace', 'funny', 'good', 'caring', 'love', 'creative']\n",
      "['the army', 'bently', 'soccer', 'sprorts']\n",
      "[]\n",
      "['mom', 'funny', 'gold motorcycl', 'nothing', 'family']\n",
      "['intelligent']\n",
      "['fashion', 'happy family']\n",
      "[]\n",
      "[]\n",
      "[]\n",
      "['i like to play', 'gets me pumped', 'i like pets']\n",
      "[]\n",
      "['silly']\n",
      "['Video Games', 'Party animal', 'cool']\n",
      "['embarrasing', 'ignorant', 'education', 'music']\n",
      "['mom and dad', 'everything', 'everyone', 'it is a fun']\n",
      "['Actor']\n",
      "[]\n",
      "['joyful']\n",
      "['smart']\n",
      "['family', 'sciene', 'india']\n",
      "[]\n",
      "['rida']\n",
      "[]\n",
      "['music', 'nas', 'reading']\n",
      "['music', 'socializing']\n",
      "['Gred']\n",
      "['i love music', 'homework is #1', 'weird', 'Loveable', 'crazy', 'lovable', 'cooking', 'trustworthy', 'be a winner']\n",
      "[]\n",
      "['cool anf funny']\n",
      "['ki', 'im nice', 'love sports']\n",
      "['music', 'cool', 'swiming', 'partys', 'games']\n",
      "['Inspiring', 'Talented', 'Determined', 'Being Me']\n",
      "[]\n",
      "['family of 6', 'joyfull', 'vehicles', 'california', 'archittect', 'mall', 'sisters', 'the army', 'science', 'beaches', 'mother', 'cooking', 'architect', 'pit bull', 'son', 'basketball']\n",
      "['laid back/cool', 'being a nurse', 'my son']\n",
      "[]\n",
      "['coo', 'fun to be with', 'love music', 'smart', 'stays ous side']\n",
      "['OMG sooo cute!', 'demi', 'smart']\n",
      "['home work', 'good', 'pets', 'fun', 'books']\n",
      "['bea superstar', 'funny', 'nice', 'no one', 'everyone', 'friends an fam']\n",
      "['mean']\n",
      "['cry baby', 's.cvml.dbr', 'games', 'ungly', 'an noying', 'tecnalge', 'a puppy', 'school', 's']\n",
      "['jojo']\n",
      "['quaymar', 'tyjon', 'tyjom']\n",
      "['xboxlive', 'Kind/competitv', 'funny/nerdy', 'video games']\n",
      "['thats is hot', 'I hot', 'mamam', 'like that', 'the car', 'like that2', 'jesuan']\n",
      "['family', 'BE A SINGER']\n",
      "['Vegies', 'You Know It', 'Fir My Kids', 'My Fab. Family', 'My Big Boy']\n",
      "['a van', 'funny', 'worried', 'happy', 'avoid all', 'sad :(', 'a black horse!']\n",
      "['kitten', 'driveing', 'rainbows', 'friendly', 'convirtible', 'nice', 'cooking', 'Cenciteve', 'artist']\n",
      "['stores', 'cool', 'gaming', 'the president', 'presidant', 'little brother']\n",
      "['BLUEMOTORCYCLE', 'NBA PLAYER', 'WIFE', 'BLUE MOTORCYCL', 'Football', 'FATHER']\n",
      "['nice', 'wining', 'funny', 'play games', 'newbyork', 'love shoes']\n",
      "['depress', 'family', 'having fun', 'music', 'jeep', 'sencetive', 'husband_2 kid']\n",
      "['dog', 'mom', 'studing', 'my wife and a', 'exersise', 'tutor', 'cool']\n",
      "[]\n",
      "['drawing']\n",
      "[]\n",
      "['park', 'gym']\n",
      "['video games', 'play music', 'son', 'to be leam', 'doctor']\n",
      "['drinking', 'mother', 'partying', 'husband_3 chi', 'husband_2 kid']\n",
      "['smart']\n",
      "['puppy', 'angel', 'sisters', 'music', '4x4', 'videogames']\n",
      "[]\n",
      "['soccer player', 'electronics', 'football playe', 'silly', 'music', 'gym', 'idk']\n",
      "[]\n",
      "['funny', 'Football Playe', 'cool']\n",
      "[]\n",
      "['being a auther', 'olone', 'family', 'myslef']\n",
      "[]\n"
     ]
    }
   ],
   "source": [
    "for i in w:\n",
    "    print(i)"
   ]
  },
  {
   "cell_type": "code",
   "execution_count": 19,
   "metadata": {},
   "outputs": [],
   "source": [
    "mask = []\n",
    "for i in w:\n",
    "    if len(i) == 0:\n",
    "        mask.append(False)\n",
    "    else:\n",
    "        mask.append(True)\n",
    "    "
   ]
  },
  {
   "cell_type": "code",
   "execution_count": 20,
   "metadata": {},
   "outputs": [
    {
     "data": {
      "text/plain": [
       "[True,\n",
       " False,\n",
       " True,\n",
       " True,\n",
       " True,\n",
       " False,\n",
       " False,\n",
       " True,\n",
       " True,\n",
       " False,\n",
       " False,\n",
       " False,\n",
       " False,\n",
       " False,\n",
       " True,\n",
       " True,\n",
       " True,\n",
       " True,\n",
       " True,\n",
       " True,\n",
       " False,\n",
       " True,\n",
       " False,\n",
       " True,\n",
       " True,\n",
       " True,\n",
       " True,\n",
       " True,\n",
       " True,\n",
       " True,\n",
       " True,\n",
       " True,\n",
       " False,\n",
       " False,\n",
       " False,\n",
       " True,\n",
       " False,\n",
       " True,\n",
       " True,\n",
       " True,\n",
       " False,\n",
       " False,\n",
       " True,\n",
       " True,\n",
       " True,\n",
       " True,\n",
       " True,\n",
       " True,\n",
       " True,\n",
       " True,\n",
       " False,\n",
       " True,\n",
       " True,\n",
       " True,\n",
       " False,\n",
       " False,\n",
       " True,\n",
       " True,\n",
       " True,\n",
       " True,\n",
       " True,\n",
       " False,\n",
       " True,\n",
       " True,\n",
       " True,\n",
       " False,\n",
       " True,\n",
       " True,\n",
       " True,\n",
       " True,\n",
       " True,\n",
       " True,\n",
       " True,\n",
       " True,\n",
       " False,\n",
       " True,\n",
       " True,\n",
       " True,\n",
       " True,\n",
       " True,\n",
       " True,\n",
       " True,\n",
       " True,\n",
       " False,\n",
       " False,\n",
       " True,\n",
       " True,\n",
       " True,\n",
       " False,\n",
       " True,\n",
       " False,\n",
       " True,\n",
       " True,\n",
       " False,\n",
       " False,\n",
       " True,\n",
       " True,\n",
       " True,\n",
       " False,\n",
       " True,\n",
       " True,\n",
       " True,\n",
       " False,\n",
       " False,\n",
       " False,\n",
       " True,\n",
       " False,\n",
       " True,\n",
       " True,\n",
       " True,\n",
       " True,\n",
       " True,\n",
       " False,\n",
       " True,\n",
       " True,\n",
       " True,\n",
       " False,\n",
       " True,\n",
       " False,\n",
       " True,\n",
       " True,\n",
       " True,\n",
       " True,\n",
       " False,\n",
       " True,\n",
       " True,\n",
       " True,\n",
       " True,\n",
       " False,\n",
       " True,\n",
       " True,\n",
       " False,\n",
       " True,\n",
       " True,\n",
       " True,\n",
       " True,\n",
       " True,\n",
       " True,\n",
       " True,\n",
       " True,\n",
       " True,\n",
       " True,\n",
       " True,\n",
       " True,\n",
       " True,\n",
       " True,\n",
       " True,\n",
       " True,\n",
       " True,\n",
       " True,\n",
       " True,\n",
       " False,\n",
       " True,\n",
       " False,\n",
       " True,\n",
       " True,\n",
       " True,\n",
       " True,\n",
       " True,\n",
       " False,\n",
       " True,\n",
       " False,\n",
       " True,\n",
       " False,\n",
       " True,\n",
       " False]"
      ]
     },
     "execution_count": 20,
     "metadata": {},
     "output_type": "execute_result"
    }
   ],
   "source": [
    "mask"
   ]
  },
  {
   "cell_type": "code",
   "execution_count": 21,
   "metadata": {},
   "outputs": [],
   "source": [
    "caregroup = []\n",
    "notcaregroup = []\n",
    "for i in range(len(mask)):\n",
    "    if(mask[i] == True):\n",
    "        caregroup.append(dfByPlayer[i])\n",
    "    else:\n",
    "        notcaregroup.append(dfByPlayer[i])"
   ]
  },
  {
   "cell_type": "code",
   "execution_count": 117,
   "metadata": {},
   "outputs": [],
   "source": [
    "caregroup_u16 = []\n",
    "for i in range(len(caregroup)):\n",
    "    if caregroup[i]['event_time_dbl'].max() <= 57600:\n",
    "        caregroup_u16.append(caregroup[i])\n",
    "\n",
    "\n",
    "notcaregroup_u16 = []\n",
    "for i in range(len(notcaregroup)):\n",
    "    if notcaregroup[i]['event_time_dbl'].max() <= 57600:\n",
    "        notcaregroup_u16.append(notcaregroup[i])"
   ]
  },
  {
   "cell_type": "code",
   "execution_count": 130,
   "metadata": {},
   "outputs": [
    {
     "data": {
      "image/png": "[encoded data removed]",
      "text/plain": [
       "<Figure size 432x288 with 1 Axes>"
      ]
     },
     "metadata": {
      "needs_background": "light"
     },
     "output_type": "display_data"
    }
   ],
   "source": [
    "def hour_histogram(care_group): \n",
    "    total_hours = []\n",
    "    for i in care_group:\n",
    "        total_hours.append(i['event_time_dbl'].max()/3600)\n",
    "    plt.hist(total_hours)\n",
    "\n",
    "hour_histogram(caregroup_u16)\n",
    "hour_histogram(notcaregroup_u16)"
   ]
  },
  {
   "cell_type": "code",
   "execution_count": 118,
   "metadata": {},
   "outputs": [],
   "source": [
    "caregroup = caregroup_u16\n",
    "notcaregroup = notcaregroup_u16"
   ]
  },
  {
   "cell_type": "code",
   "execution_count": 120,
   "metadata": {},
   "outputs": [
    {
     "name": "stdout",
     "output_type": "stream",
     "text": [
      "29842.606382978724\n"
     ]
    }
   ],
   "source": [
    "totaltime = 0\n",
    "for i in caregroup:\n",
    "    totaltime += i['event_time_dbl'].max()\n",
    "print(totaltime/len(caregroup))"
   ]
  },
  {
   "cell_type": "code",
   "execution_count": 121,
   "metadata": {},
   "outputs": [
    {
     "name": "stdout",
     "output_type": "stream",
     "text": [
      "22374.764705882353\n"
     ]
    }
   ],
   "source": [
    "totaltime = 0\n",
    "for i in notcaregroup:\n",
    "    totaltime += i['event_time_dbl'].max()\n",
    "print(totaltime/len(notcaregroup))"
   ]
  },
  {
   "cell_type": "code",
   "execution_count": null,
   "metadata": {},
   "outputs": [],
   "source": []
  },
  {
   "cell_type": "code",
   "execution_count": 149,
   "metadata": {},
   "outputs": [],
   "source": [
    "totalminigametimelist = []\n",
    "for i in notcaregroup:\n",
    "    startflag = False\n",
    "    start = 0\n",
    "    stop = 0\n",
    "    totalminigametime = 0\n",
    "    for index, row in i.iterrows():\n",
    "        if((row['event_category'] == \"Knowledge Minigame\") or (row['event_category'] == \"Minigame General\")) and (startflag == False):\n",
    "            start = row['event_time_dbl']\n",
    "            startflag = True\n",
    "        if((row['event_category'] != \"Knowledge Minigame\") and (row['event_category'] != \"Minigame General\")) and (startflag == True):\n",
    "            stop = row['event_time_dbl']\n",
    "            totalminigametime =  totalminigametime + (stop - start)\n",
    "            startflag = False\n",
    "    totalminigametimelist.append(totalminigametime/(i['event_time_dbl'].max()))\n"
   ]
  },
  {
   "cell_type": "code",
   "execution_count": 151,
   "metadata": {},
   "outputs": [
    {
     "data": {
      "text/plain": [
       "<AxesSubplot:ylabel='Probability'>"
      ]
     },
     "execution_count": 151,
     "metadata": {},
     "output_type": "execute_result"
    },
    {
     "data": {
      "image/png": "[encoded data removed]",
      "text/plain": [
       "<Figure size 432x288 with 1 Axes>"
      ]
     },
     "metadata": {
      "needs_background": "light"
     },
     "output_type": "display_data"
    }
   ],
   "source": [
    "sns.histplot(\n",
    "    x=totalminigametimelist,\n",
    "    stat='probability'\n",
    ")"
   ]
  },
  {
   "cell_type": "code",
   "execution_count": 152,
   "metadata": {},
   "outputs": [],
   "source": [
    "totalminigametimelist = []\n",
    "for i in caregroup:\n",
    "    totalminigametime = 0\n",
    "    startflag = False\n",
    "    start = 0\n",
    "    stop = 0\n",
    "    for index, row in i.iterrows():\n",
    "        if((row['event_category'] == \"Knowledge Minigame\") or (row['event_category'] == \"Minigame General\")) and (startflag == False):\n",
    "            start = row['event_time_dbl']\n",
    "            startflag = True\n",
    "        if((row['event_category'] != \"Knowledge Minigame\") and (row['event_category'] != \"Minigame General\")) and (startflag == True):\n",
    "            stop = row['event_time_dbl']\n",
    "            totalminigametime =  totalminigametime + (stop - start)\n",
    "            startflag = False\n",
    "    totalminigametimelist.append(totalminigametime/(i['event_time_dbl'].max()))\n"
   ]
  },
  {
   "cell_type": "code",
   "execution_count": 153,
   "metadata": {},
   "outputs": [
    {
     "data": {
      "text/plain": [
       "<AxesSubplot:ylabel='Probability'>"
      ]
     },
     "execution_count": 153,
     "metadata": {},
     "output_type": "execute_result"
    },
    {
     "data": {
      "image/png": "[encoded data removed]",
      "text/plain": [
       "<Figure size 432x288 with 1 Axes>"
      ]
     },
     "metadata": {
      "needs_background": "light"
     },
     "output_type": "display_data"
    }
   ],
   "source": [
    "sns.histplot(\n",
    "    x=totalminigametimelist,\n",
    "    stat='probability'\n",
    ")"
   ]
  },
  {
   "cell_type": "code",
   "execution_count": 157,
   "metadata": {},
   "outputs": [
    {
     "data": {
      "text/plain": [
       "<AxesSubplot:ylabel='Probability'>"
      ]
     },
     "execution_count": 157,
     "metadata": {},
     "output_type": "execute_result"
    },
    {
     "data": {
      "image/png": "[encoded data removed]",
      "text/plain": [
       "<Figure size 432x288 with 1 Axes>"
      ]
     },
     "metadata": {
      "needs_background": "light"
     },
     "output_type": "display_data"
    }
   ],
   "source": [
    "graph = []\n",
    "for i in notcaregroup:\n",
    "    graph.append(i['proportion_complete'].max())\n",
    "sns.histplot(\n",
    "    x=graph,\n",
    "    stat='probability',\n",
    "    bins = 10\n",
    ")\n"
   ]
  },
  {
   "cell_type": "code",
   "execution_count": 156,
   "metadata": {},
   "outputs": [
    {
     "data": {
      "text/plain": [
       "<AxesSubplot:ylabel='Probability'>"
      ]
     },
     "execution_count": 156,
     "metadata": {},
     "output_type": "execute_result"
    },
    {
     "data": {
      "image/png": "[encoded data removed]",
      "text/plain": [
       "<Figure size 432x288 with 1 Axes>"
      ]
     },
     "metadata": {
      "needs_background": "light"
     },
     "output_type": "display_data"
    }
   ],
   "source": [
    "graph = []\n",
    "for i in caregroup:\n",
    "    graph.append(i['proportion_complete'].max())\n",
    "sns.histplot(\n",
    "    x=graph,\n",
    "    stat='probability',\n",
    "    bins = 10\n",
    ")\n"
   ]
  },
  {
   "cell_type": "code",
   "execution_count": 128,
   "metadata": {},
   "outputs": [
    {
     "name": "stdout",
     "output_type": "stream",
     "text": [
      "[[1.         0.53518286]\n",
      " [0.53518286 1.        ]]\n"
     ]
    },
    {
     "data": {
      "image/png": "[encoded data removed]",
      "text/plain": [
       "<Figure size 432x288 with 1 Axes>"
      ]
     },
     "metadata": {
      "needs_background": "light"
     },
     "output_type": "display_data"
    }
   ],
   "source": [
    "x = []\n",
    "y = []\n",
    "for i in notcaregroup:\n",
    "   x.append(i['proportion_complete'].max())\n",
    "   y.append(i['event_time_dbl'].max())\n",
    "plt.scatter(x,y)\n",
    "print(np.corrcoef(x, y))"
   ]
  },
  {
   "cell_type": "code",
   "execution_count": 129,
   "metadata": {},
   "outputs": [
    {
     "name": "stdout",
     "output_type": "stream",
     "text": [
      "[[1.         0.39595722]\n",
      " [0.39595722 1.        ]]\n"
     ]
    },
    {
     "data": {
      "image/png": "[encoded data removed]",
      "text/plain": [
       "<Figure size 432x288 with 1 Axes>"
      ]
     },
     "metadata": {
      "needs_background": "light"
     },
     "output_type": "display_data"
    }
   ],
   "source": [
    "x = []\n",
    "y = []\n",
    "for i in caregroup:\n",
    "   x.append(i['proportion_complete'].max())\n",
    "   y.append(i['event_time_dbl'].max())\n",
    "plt.scatter(x,y)\n",
    "print(np.corrcoef(x, y))"
   ]
  },
  {
   "cell_type": "code",
   "execution_count": null,
   "metadata": {},
   "outputs": [],
   "source": []
  },
  {
   "cell_type": "code",
   "execution_count": null,
   "metadata": {},
   "outputs": [],
   "source": []
  }
 ],
 "metadata": {
  "interpreter": {
   "hash": "827d28eff8753131e87be9d4be9576aa68dc625c562e2ec06e2a0d00ab6ebc9a"
  },
  "kernelspec": {
   "display_name": "Python 3.9.7 64-bit ('base': conda)",
   "name": "python3"
  },
  "language_info": {
   "codemirror_mode": {
    "name": "ipython",
    "version": 3
   },
   "file_extension": ".py",
   "mimetype": "text/x-python",
   "name": "python",
   "nbconvert_exporter": "python",
   "pygments_lexer": "ipython3",
   "version": "3.9.7"
  },
  "orig_nbformat": 4
 },
 "nbformat": 4,
 "nbformat_minor": 2
}
