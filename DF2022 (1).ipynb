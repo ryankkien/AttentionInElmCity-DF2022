{
 "cells": [
  {
   "cell_type": "code",
   "execution_count": 275,
   "id": "d46122ee-035f-4867-acf8-75eaf56546c9",
   "metadata": {},
   "outputs": [],
   "source": [
    "import pandas as pd\n",
    "import numpy as np\n",
    "import math\n",
    "import matplotlib.pyplot as plt\n",
    "from scipy import stats\n",
    "from scipy.optimize import curve_fit"
   ]
  },
  {
   "cell_type": "code",
   "execution_count": 276,
   "id": "14ce3659-8dee-45ae-9032-2e3f152c1d5a",
   "metadata": {},
   "outputs": [
    {
     "name": "stderr",
     "output_type": "stream",
     "text": [
      "C:\\Users\\rswil\\anaconda3\\lib\\site-packages\\IPython\\core\\interactiveshell.py:3444: DtypeWarning: Columns (34,38,39,40,47,50,53,54,57,58,59,60,62,68,70,72,73,74,76,77,78,81,85,88,89,90,91,92,96,97,98,99,100,101,102,103,104,105,106,107,108,109,110,111,112,113,114,115,116,118,120,121,122,123,129,131) have mixed types.Specify dtype option on import or set low_memory=False.\n",
      "  exec(code_obj, self.user_global_ns, self.user_ns)\n"
     ]
    }
   ],
   "source": [
    "# load the data\n",
    "logs = pd.read_csv(\"C:/Users/rswil/Downloads/DF2022/Data For Students-Updated2022-03-28/data files/logs.csv\")"
   ]
  },
  {
   "cell_type": "code",
   "execution_count": 277,
   "id": "9ac5adff-93a4-47ac-aa9e-230deb53d717",
   "metadata": {},
   "outputs": [],
   "source": [
    "# create player_id list\n",
    "df_players = []\n",
    "for i in logs['player_id'].unique():\n",
    "    df_players.append(logs[logs['player_id'] == i])"
   ]
  },
  {
   "cell_type": "code",
   "execution_count": 278,
   "id": "79798da9-42c3-46c4-ade0-a3661df68796",
   "metadata": {},
   "outputs": [],
   "source": [
    "# select labels\n",
    "wordchoice = []\n",
    "for i in df_players:\n",
    "    wordchoice.append(i['old_label'])"
   ]
  },
  {
   "cell_type": "code",
   "execution_count": 279,
   "id": "caef857b-6f65-43d6-8c91-f3e580c9c62b",
   "metadata": {},
   "outputs": [],
   "source": [
    "w = []\n",
    "for i in wordchoice:\n",
    "    w.append([x for x in i if pd.isna(x) == False ])"
   ]
  },
  {
   "cell_type": "code",
   "execution_count": 280,
   "id": "c51b75b0-b549-434e-84f9-73f536bd1736",
   "metadata": {},
   "outputs": [],
   "source": [
    "mask = []\n",
    "for i in w:\n",
    "    if len(i) == 0:\n",
    "        mask.append(False)\n",
    "    else:\n",
    "        mask.append(True)\n",
    "trueIndices = []\n",
    "for i in range(len(mask)):\n",
    "    if mask[i]:\n",
    "        trueIndices.append(i)\n",
    "\n",
    "trueIndicesNonValid = [16, 29, 33, 42, 98, 100]\n",
    "nonValid = []\n",
    "for i in trueIndicesNonValid:\n",
    "    nonValid.append(trueIndices[i])\n",
    "\n",
    "# nonValid\n",
    "for i in nonValid:\n",
    "    mask[i] = not mask[i]"
   ]
  },
  {
   "cell_type": "code",
   "execution_count": 281,
   "id": "df1fee92-cdeb-40d2-b56c-e4976e83a2f6",
   "metadata": {},
   "outputs": [],
   "source": [
    "caregroup = []\n",
    "notcaregroup = []\n",
    "for i in range(len(mask)):\n",
    "    if mask[i]:\n",
    "        caregroup.append(df_players[i])\n",
    "    else:\n",
    "        notcaregroup.append(df_players[i])"
   ]
  },
  {
   "cell_type": "code",
   "execution_count": 282,
   "id": "22ec5cdc-ef51-4337-b130-ef5faba7e655",
   "metadata": {},
   "outputs": [],
   "source": [
    "caregroup_u16 = []\n",
    "for i in range(len(caregroup)):\n",
    "    if caregroup[i]['event_time_dbl'].max() <= 57600:\n",
    "        caregroup_u16.append(caregroup[i])\n",
    "\n",
    "notcaregroup_u16 = []\n",
    "for i in range(len(notcaregroup)):\n",
    "    if notcaregroup[i]['event_time_dbl'].max() <= 57600:\n",
    "        notcaregroup_u16.append(notcaregroup[i])"
   ]
  },
  {
   "cell_type": "code",
   "execution_count": 283,
   "id": "c6f625e4-a2fa-45c5-9e4e-d2c659294fd9",
   "metadata": {},
   "outputs": [
    {
     "data": {
      "image/png": "[encoded data removed]",
      "text/plain": [
       "<Figure size 432x288 with 1 Axes>"
      ]
     },
     "metadata": {
      "needs_background": "light"
     },
     "output_type": "display_data"
    }
   ],
   "source": [
    "def hours(care_group): \n",
    "    total_hours = []\n",
    "    for i in care_group:\n",
    "        total_hours.append(i['event_time_dbl'].max()/3600)\n",
    "    return total_hours\n",
    "caregroup_hours_spent = hours(caregroup_u16)\n",
    "notcaregroup_hours_spent = hours(notcaregroup_u16)\n",
    "\n",
    "plt.hist(caregroup_hours_spent, density = True, bins = 14, alpha = 0.7)\n",
    "plt.hist(notcaregroup_hours_spent, density = True, bins = 14, alpha = 0.7)\n",
    "plt.legend(['interested', 'not interested'])\n",
    "plt.xlabel('hours')\n",
    "plt.ylabel('frequency')\n",
    "plt.title('total time spent playing by interest level group')\n",
    "plt.show()"
   ]
  },
  {
   "cell_type": "code",
   "execution_count": 284,
   "id": "fa928ef4-f89b-4f06-9ad9-7cf8eb8fd386",
   "metadata": {},
   "outputs": [],
   "source": [
    "def prop(care_group): \n",
    "    prop = []\n",
    "    for i in care_group:\n",
    "        prop.append(i['proportion_complete'].max())\n",
    "    return prop\n",
    "caregroup_prop = prop(caregroup_u16)\n",
    "notcaregroup_prop = prop(notcaregroup_u16)"
   ]
  },
  {
   "cell_type": "code",
   "execution_count": 285,
   "id": "9e1ec4c7-3ef0-48a4-a34e-af4c3ec00bc7",
   "metadata": {},
   "outputs": [
    {
     "data": {
      "image/png": "[encoded data removed]",
      "text/plain": [
       "<Figure size 432x288 with 1 Axes>"
      ]
     },
     "metadata": {
      "needs_background": "light"
     },
     "output_type": "display_data"
    }
   ],
   "source": [
    "plt.hist(caregroup_prop, density = True, bins = 10, alpha = 0.7)\n",
    "plt.hist(notcaregroup_prop, density = True, bins = 10, alpha = 0.7)\n",
    "plt.legend(['interested', 'not interested'])\n",
    "plt.xlabel('percent completed')\n",
    "plt.ylabel('frequency')\n",
    "plt.title('total percent completed by interest level group')\n",
    "plt.show()"
   ]
  },
  {
   "cell_type": "code",
   "execution_count": 286,
   "id": "a974ebd1-d1db-481f-a1ad-0b84addf08f2",
   "metadata": {},
   "outputs": [
    {
     "data": {
      "text/plain": [
       "Ttest_indResult(statistic=3.2800487410039767, pvalue=0.0017180054292720468)"
      ]
     },
     "execution_count": 286,
     "metadata": {},
     "output_type": "execute_result"
    }
   ],
   "source": [
    "stats.ttest_ind(caregroup_hours_spent, notcaregroup_hours_spent, equal_var = False)"
   ]
  },
  {
   "cell_type": "code",
   "execution_count": 287,
   "id": "b01c8f4f-0b5f-4561-84c7-3b6c3c1de585",
   "metadata": {},
   "outputs": [
    {
     "data": {
      "text/plain": [
       "Ttest_indResult(statistic=1.6095084730337983, pvalue=0.11227723530853016)"
      ]
     },
     "execution_count": 287,
     "metadata": {},
     "output_type": "execute_result"
    }
   ],
   "source": [
    "stats.ttest_ind(caregroup_prop, notcaregroup_prop, equal_var = False)"
   ]
  },
  {
   "cell_type": "code",
   "execution_count": 288,
   "id": "99b00902-d804-48ef-9fbe-6163232e8de8",
   "metadata": {},
   "outputs": [
    {
     "data": {
      "image/png": "[encoded data removed]",
      "text/plain": [
       "<Figure size 432x288 with 1 Axes>"
      ]
     },
     "metadata": {
      "needs_background": "light"
     },
     "output_type": "display_data"
    }
   ],
   "source": [
    "z_care = np.polyfit(caregroup_prop, caregroup_hours_spent, 4)\n",
    "f_care = np.poly1d(z_care)\n",
    "x_care = np.linspace(0, 1, 100)\n",
    "y_care = f_care(x)\n",
    "\n",
    "z_notcare = np.polyfit(notcaregroup_prop, notcaregroup_hours_spent, 4)\n",
    "f_notcare = np.poly1d(z_notcare)\n",
    "x_notcare = np.linspace(0, 1, 100)\n",
    "y_notcare = f_notcare(x)\n",
    "\n",
    "plt.scatter(caregroup_prop, caregroup_hours_spent)\n",
    "plt.plot(x_care, y_care, linewidth = 2)\n",
    "plt.scatter(notcaregroup_prop, notcaregroup_hours_spent)\n",
    "plt.plot(x_notcare, y_notcare, linewidth = 2)\n",
    "plt.legend(['interested', 'not interested'], loc = \"lower right\")\n",
    "plt.xlabel('percent completed')\n",
    "plt.ylabel('hours')\n",
    "plt.title('elapsed time vs. percent completed by interest level group')\n",
    "plt.show()"
   ]
  },
  {
   "cell_type": "code",
   "execution_count": 289,
   "id": "20371c93-4892-4092-8069-10978bb52868",
   "metadata": {},
   "outputs": [
    {
     "ename": "TypeError",
     "evalue": "the dtypes of parameters x (object) and width (float64) are incompatible",
     "output_type": "error",
     "traceback": [
      "\u001b[1;31m---------------------------------------------------------------------------\u001b[0m",
      "\u001b[1;31mTypeError\u001b[0m                                 Traceback (most recent call last)",
      "\u001b[1;32m~\\anaconda3\\lib\\site-packages\\matplotlib\\axes\\_axes.py\u001b[0m in \u001b[0;36mbar\u001b[1;34m(self, x, height, width, bottom, align, **kwargs)\u001b[0m\n\u001b[0;32m   2334\u001b[0m                 \u001b[1;32mtry\u001b[0m\u001b[1;33m:\u001b[0m\u001b[1;33m\u001b[0m\u001b[1;33m\u001b[0m\u001b[0m\n\u001b[1;32m-> 2335\u001b[1;33m                     \u001b[0mleft\u001b[0m \u001b[1;33m=\u001b[0m \u001b[0mx\u001b[0m \u001b[1;33m-\u001b[0m \u001b[0mwidth\u001b[0m \u001b[1;33m/\u001b[0m \u001b[1;36m2\u001b[0m\u001b[1;33m\u001b[0m\u001b[1;33m\u001b[0m\u001b[0m\n\u001b[0m\u001b[0;32m   2336\u001b[0m                 \u001b[1;32mexcept\u001b[0m \u001b[0mTypeError\u001b[0m \u001b[1;32mas\u001b[0m \u001b[0me\u001b[0m\u001b[1;33m:\u001b[0m\u001b[1;33m\u001b[0m\u001b[1;33m\u001b[0m\u001b[0m\n",
      "\u001b[1;31mTypeError\u001b[0m: 'float' object is not iterable",
      "\nThe above exception was the direct cause of the following exception:\n",
      "\u001b[1;31mTypeError\u001b[0m                                 Traceback (most recent call last)",
      "\u001b[1;32m~\\AppData\\Local\\Temp/ipykernel_3160/3320814194.py\u001b[0m in \u001b[0;36m<module>\u001b[1;34m\u001b[0m\n\u001b[0;32m     13\u001b[0m             \u001b[0mstill_notcare\u001b[0m\u001b[1;33m[\u001b[0m\u001b[0mvalue\u001b[0m\u001b[1;33m]\u001b[0m \u001b[1;33m+=\u001b[0m \u001b[1;36m1\u001b[0m\u001b[1;33m\u001b[0m\u001b[1;33m\u001b[0m\u001b[0m\n\u001b[0;32m     14\u001b[0m \u001b[1;33m\u001b[0m\u001b[0m\n\u001b[1;32m---> 15\u001b[1;33m \u001b[0mplt\u001b[0m\u001b[1;33m.\u001b[0m\u001b[0mbar\u001b[0m\u001b[1;33m(\u001b[0m\u001b[1;33m[\u001b[0m\u001b[0mstill_care\u001b[0m\u001b[1;33m.\u001b[0m\u001b[0mkeys\u001b[0m\u001b[1;33m(\u001b[0m\u001b[1;33m)\u001b[0m\u001b[1;33m,\u001b[0m \u001b[0mstill_care\u001b[0m\u001b[1;33m.\u001b[0m\u001b[0mkeys\u001b[0m\u001b[1;33m(\u001b[0m\u001b[1;33m)\u001b[0m\u001b[1;33m]\u001b[0m\u001b[1;33m,\u001b[0m \u001b[1;33m[\u001b[0m\u001b[0mstill_notcare\u001b[0m\u001b[1;33m.\u001b[0m\u001b[0mvalues\u001b[0m\u001b[1;33m(\u001b[0m\u001b[1;33m)\u001b[0m\u001b[1;33m,\u001b[0m \u001b[0mstill_notcare\u001b[0m\u001b[1;33m.\u001b[0m\u001b[0mvalues\u001b[0m\u001b[1;33m(\u001b[0m\u001b[1;33m)\u001b[0m\u001b[1;33m]\u001b[0m\u001b[1;33m)\u001b[0m\u001b[1;33m\u001b[0m\u001b[1;33m\u001b[0m\u001b[0m\n\u001b[0m\u001b[0;32m     16\u001b[0m \u001b[0mplt\u001b[0m\u001b[1;33m.\u001b[0m\u001b[0mlegend\u001b[0m\u001b[1;33m(\u001b[0m\u001b[1;33m[\u001b[0m\u001b[1;34m'interested'\u001b[0m\u001b[1;33m,\u001b[0m \u001b[1;34m'not interested'\u001b[0m\u001b[1;33m]\u001b[0m\u001b[1;33m,\u001b[0m \u001b[0mloc\u001b[0m \u001b[1;33m=\u001b[0m \u001b[1;34m\"upper right\"\u001b[0m\u001b[1;33m)\u001b[0m\u001b[1;33m\u001b[0m\u001b[1;33m\u001b[0m\u001b[0m\n\u001b[0;32m     17\u001b[0m \u001b[0mplt\u001b[0m\u001b[1;33m.\u001b[0m\u001b[0mxlabel\u001b[0m\u001b[1;33m(\u001b[0m\u001b[1;34m'percent completed'\u001b[0m\u001b[1;33m)\u001b[0m\u001b[1;33m\u001b[0m\u001b[1;33m\u001b[0m\u001b[0m\n",
      "\u001b[1;32m~\\anaconda3\\lib\\site-packages\\matplotlib\\pyplot.py\u001b[0m in \u001b[0;36mbar\u001b[1;34m(x, height, width, bottom, align, data, **kwargs)\u001b[0m\n\u001b[0;32m   2649\u001b[0m         \u001b[0mx\u001b[0m\u001b[1;33m,\u001b[0m \u001b[0mheight\u001b[0m\u001b[1;33m,\u001b[0m \u001b[0mwidth\u001b[0m\u001b[1;33m=\u001b[0m\u001b[1;36m0.8\u001b[0m\u001b[1;33m,\u001b[0m \u001b[0mbottom\u001b[0m\u001b[1;33m=\u001b[0m\u001b[1;32mNone\u001b[0m\u001b[1;33m,\u001b[0m \u001b[1;33m*\u001b[0m\u001b[1;33m,\u001b[0m \u001b[0malign\u001b[0m\u001b[1;33m=\u001b[0m\u001b[1;34m'center'\u001b[0m\u001b[1;33m,\u001b[0m\u001b[1;33m\u001b[0m\u001b[1;33m\u001b[0m\u001b[0m\n\u001b[0;32m   2650\u001b[0m         data=None, **kwargs):\n\u001b[1;32m-> 2651\u001b[1;33m     return gca().bar(\n\u001b[0m\u001b[0;32m   2652\u001b[0m         \u001b[0mx\u001b[0m\u001b[1;33m,\u001b[0m \u001b[0mheight\u001b[0m\u001b[1;33m,\u001b[0m \u001b[0mwidth\u001b[0m\u001b[1;33m=\u001b[0m\u001b[0mwidth\u001b[0m\u001b[1;33m,\u001b[0m \u001b[0mbottom\u001b[0m\u001b[1;33m=\u001b[0m\u001b[0mbottom\u001b[0m\u001b[1;33m,\u001b[0m \u001b[0malign\u001b[0m\u001b[1;33m=\u001b[0m\u001b[0malign\u001b[0m\u001b[1;33m,\u001b[0m\u001b[1;33m\u001b[0m\u001b[1;33m\u001b[0m\u001b[0m\n\u001b[0;32m   2653\u001b[0m         **({\"data\": data} if data is not None else {}), **kwargs)\n",
      "\u001b[1;32m~\\anaconda3\\lib\\site-packages\\matplotlib\\__init__.py\u001b[0m in \u001b[0;36minner\u001b[1;34m(ax, data, *args, **kwargs)\u001b[0m\n\u001b[0;32m   1359\u001b[0m     \u001b[1;32mdef\u001b[0m \u001b[0minner\u001b[0m\u001b[1;33m(\u001b[0m\u001b[0max\u001b[0m\u001b[1;33m,\u001b[0m \u001b[1;33m*\u001b[0m\u001b[0margs\u001b[0m\u001b[1;33m,\u001b[0m \u001b[0mdata\u001b[0m\u001b[1;33m=\u001b[0m\u001b[1;32mNone\u001b[0m\u001b[1;33m,\u001b[0m \u001b[1;33m**\u001b[0m\u001b[0mkwargs\u001b[0m\u001b[1;33m)\u001b[0m\u001b[1;33m:\u001b[0m\u001b[1;33m\u001b[0m\u001b[1;33m\u001b[0m\u001b[0m\n\u001b[0;32m   1360\u001b[0m         \u001b[1;32mif\u001b[0m \u001b[0mdata\u001b[0m \u001b[1;32mis\u001b[0m \u001b[1;32mNone\u001b[0m\u001b[1;33m:\u001b[0m\u001b[1;33m\u001b[0m\u001b[1;33m\u001b[0m\u001b[0m\n\u001b[1;32m-> 1361\u001b[1;33m             \u001b[1;32mreturn\u001b[0m \u001b[0mfunc\u001b[0m\u001b[1;33m(\u001b[0m\u001b[0max\u001b[0m\u001b[1;33m,\u001b[0m \u001b[1;33m*\u001b[0m\u001b[0mmap\u001b[0m\u001b[1;33m(\u001b[0m\u001b[0msanitize_sequence\u001b[0m\u001b[1;33m,\u001b[0m \u001b[0margs\u001b[0m\u001b[1;33m)\u001b[0m\u001b[1;33m,\u001b[0m \u001b[1;33m**\u001b[0m\u001b[0mkwargs\u001b[0m\u001b[1;33m)\u001b[0m\u001b[1;33m\u001b[0m\u001b[1;33m\u001b[0m\u001b[0m\n\u001b[0m\u001b[0;32m   1362\u001b[0m \u001b[1;33m\u001b[0m\u001b[0m\n\u001b[0;32m   1363\u001b[0m         \u001b[0mbound\u001b[0m \u001b[1;33m=\u001b[0m \u001b[0mnew_sig\u001b[0m\u001b[1;33m.\u001b[0m\u001b[0mbind\u001b[0m\u001b[1;33m(\u001b[0m\u001b[0max\u001b[0m\u001b[1;33m,\u001b[0m \u001b[1;33m*\u001b[0m\u001b[0margs\u001b[0m\u001b[1;33m,\u001b[0m \u001b[1;33m**\u001b[0m\u001b[0mkwargs\u001b[0m\u001b[1;33m)\u001b[0m\u001b[1;33m\u001b[0m\u001b[1;33m\u001b[0m\u001b[0m\n",
      "\u001b[1;32m~\\anaconda3\\lib\\site-packages\\matplotlib\\axes\\_axes.py\u001b[0m in \u001b[0;36mbar\u001b[1;34m(self, x, height, width, bottom, align, **kwargs)\u001b[0m\n\u001b[0;32m   2335\u001b[0m                     \u001b[0mleft\u001b[0m \u001b[1;33m=\u001b[0m \u001b[0mx\u001b[0m \u001b[1;33m-\u001b[0m \u001b[0mwidth\u001b[0m \u001b[1;33m/\u001b[0m \u001b[1;36m2\u001b[0m\u001b[1;33m\u001b[0m\u001b[1;33m\u001b[0m\u001b[0m\n\u001b[0;32m   2336\u001b[0m                 \u001b[1;32mexcept\u001b[0m \u001b[0mTypeError\u001b[0m \u001b[1;32mas\u001b[0m \u001b[0me\u001b[0m\u001b[1;33m:\u001b[0m\u001b[1;33m\u001b[0m\u001b[1;33m\u001b[0m\u001b[0m\n\u001b[1;32m-> 2337\u001b[1;33m                     raise TypeError(f'the dtypes of parameters x ({x.dtype}) '\n\u001b[0m\u001b[0;32m   2338\u001b[0m                                     \u001b[1;34mf'and width ({width.dtype}) '\u001b[0m\u001b[1;33m\u001b[0m\u001b[1;33m\u001b[0m\u001b[0m\n\u001b[0;32m   2339\u001b[0m                                     f'are incompatible') from e\n",
      "\u001b[1;31mTypeError\u001b[0m: the dtypes of parameters x (object) and width (float64) are incompatible"
     ]
    },
    {
     "data": {
      "image/png": "[encoded data removed]",
      "text/plain": [
       "<Figure size 432x288 with 1 Axes>"
      ]
     },
     "metadata": {
      "needs_background": "light"
     },
     "output_type": "display_data"
    }
   ],
   "source": [
    "still_care = {0:0, 0.05:0, 0.1:0, 0.15:0, 0.2:0, 0.25:0, 0.3:0, 0.35:0, 0.4:0, 0.45:0, 0.5:0,\n",
    "              0.55:0, 0.6:0, 0.65:0, 0.70:0, 0.75:0, 0.80:0, 0.85:0, 0.90:0, 0.95:0, 1:0}\n",
    "for status in caregroup_prop:\n",
    "    for value in still_care:\n",
    "        if status >= value: \n",
    "            still_care[value] += 1\n",
    "\n",
    "still_notcare = {0:0, 0.05:0, 0.1:0, 0.15:0, 0.2:0, 0.25:0, 0.3:0, 0.35:0, 0.4:0, 0.45:0, 0.5:0,\n",
    "              0.55:0, 0.6:0, 0.65:0, 0.70:0, 0.75:0, 0.80:0, 0.85:0, 0.90:0, 0.95:0, 1:0}\n",
    "for status in notcaregroup_prop:\n",
    "    for value in still_notcare:\n",
    "        if status >= value: \n",
    "            still_notcare[value] += 1\n",
    "            \n",
    "plt.bar([still_care.keys(), still_care.keys()], [still_notcare.values(), still_notcare.values()])\n",
    "plt.legend(['interested', 'not interested'], loc = \"upper right\")\n",
    "plt.xlabel('percent completed')\n",
    "plt.ylabel('count')\n",
    "plt.xlim(0, 1)\n",
    "plt.title('remaining players by interest level group')\n",
    "plt.show()\n",
    "\n",
    "print(still_care)\n",
    "print(still_notcare)"
   ]
  },
  {
   "cell_type": "code",
   "execution_count": null,
   "id": "10af6689-c1dd-4fee-a503-ffe330874478",
   "metadata": {},
   "outputs": [],
   "source": [
    "plt.scatterhist(notcaregroup_event_time, density = True,bins = 10, alpha = 0.7)\n",
    "plt.legend(['interested', 'not interested'])\n",
    "plt.xlabel('percent completed')\n",
    "plt.ylabel('frequency')\n",
    "plt.title('total percent completed by interest level group')\n",
    "plt.show()"
   ]
  },
  {
   "cell_type": "code",
   "execution_count": null,
   "id": "6923ee45-bf41-4ba9-994d-e9601f311567",
   "metadata": {},
   "outputs": [],
   "source": [
    "df = pd.DataFrame('proportion complete' = )"
   ]
  },
  {
   "cell_type": "code",
   "execution_count": null,
   "id": "13baa810-381e-4890-9967-e413669d5df7",
   "metadata": {},
   "outputs": [],
   "source": []
  }
 ],
 "metadata": {
  "kernelspec": {
   "display_name": "Python 3 (ipykernel)",
   "language": "python",
   "name": "python3"
  },
  "language_info": {
   "codemirror_mode": {
    "name": "ipython",
    "version": 3
   },
   "file_extension": ".py",
   "mimetype": "text/x-python",
   "name": "python",
   "nbconvert_exporter": "python",
   "pygments_lexer": "ipython3",
   "version": "3.9.7"
  }
 },
 "nbformat": 4,
 "nbformat_minor": 5
}
